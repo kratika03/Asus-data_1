{
 "cells": [
  {
   "cell_type": "code",
   "execution_count": 6,
   "id": "9160be53-1044-4c9b-8fcf-ea0971c2d37f",
   "metadata": {},
   "outputs": [],
   "source": [
    "import pandas as pd\n",
    "import numpy as np\n",
    "from datetime import datetime, timedelta\n"
   ]
  },
  {
   "cell_type": "code",
   "execution_count": 7,
   "id": "4c6d582d-2ff6-4a7c-a0ee-77362b5b9d41",
   "metadata": {
    "tags": []
   },
   "outputs": [
    {
     "data": {
      "text/html": [
       "<div>\n",
       "<style scoped>\n",
       "    .dataframe tbody tr th:only-of-type {\n",
       "        vertical-align: middle;\n",
       "    }\n",
       "\n",
       "    .dataframe tbody tr th {\n",
       "        vertical-align: top;\n",
       "    }\n",
       "\n",
       "    .dataframe thead th {\n",
       "        text-align: right;\n",
       "    }\n",
       "</style>\n",
       "<table border=\"1\" class=\"dataframe\">\n",
       "  <thead>\n",
       "    <tr style=\"text-align: right;\">\n",
       "      <th></th>\n",
       "      <th>userid</th>\n",
       "      <th>name</th>\n",
       "      <th>1st dose status</th>\n",
       "      <th>date of 1st dose</th>\n",
       "      <th>2nd dose status</th>\n",
       "      <th>date of 2nd dose</th>\n",
       "    </tr>\n",
       "  </thead>\n",
       "  <tbody>\n",
       "    <tr>\n",
       "      <th>0</th>\n",
       "      <td>p001</td>\n",
       "      <td>Chandler</td>\n",
       "      <td>yes</td>\n",
       "      <td>2021-12-30</td>\n",
       "      <td>yes</td>\n",
       "      <td>2022-03-30</td>\n",
       "    </tr>\n",
       "    <tr>\n",
       "      <th>1</th>\n",
       "      <td>p002</td>\n",
       "      <td>Joey</td>\n",
       "      <td>yes</td>\n",
       "      <td>2023-01-12</td>\n",
       "      <td>no</td>\n",
       "      <td>NaT</td>\n",
       "    </tr>\n",
       "    <tr>\n",
       "      <th>2</th>\n",
       "      <td>p003</td>\n",
       "      <td>Monica</td>\n",
       "      <td>yes</td>\n",
       "      <td>2022-03-15</td>\n",
       "      <td>yes</td>\n",
       "      <td>2022-06-23</td>\n",
       "    </tr>\n",
       "    <tr>\n",
       "      <th>3</th>\n",
       "      <td>p004</td>\n",
       "      <td>Rachel</td>\n",
       "      <td>yes</td>\n",
       "      <td>2022-02-17</td>\n",
       "      <td>no</td>\n",
       "      <td>NaT</td>\n",
       "    </tr>\n",
       "    <tr>\n",
       "      <th>4</th>\n",
       "      <td>p005</td>\n",
       "      <td>Pheobe</td>\n",
       "      <td>yes</td>\n",
       "      <td>2022-01-18</td>\n",
       "      <td>yes</td>\n",
       "      <td>2022-05-08</td>\n",
       "    </tr>\n",
       "  </tbody>\n",
       "</table>\n",
       "</div>"
      ],
      "text/plain": [
       "  userid      name 1st dose status date of 1st dose 2nd dose status  \\\n",
       "0   p001  Chandler             yes       2021-12-30             yes   \n",
       "1   p002      Joey             yes       2023-01-12              no   \n",
       "2   p003    Monica             yes       2022-03-15             yes   \n",
       "3   p004    Rachel             yes       2022-02-17              no   \n",
       "4   p005    Pheobe             yes       2022-01-18             yes   \n",
       "\n",
       "  date of 2nd dose  \n",
       "0       2022-03-30  \n",
       "1              NaT  \n",
       "2       2022-06-23  \n",
       "3              NaT  \n",
       "4       2022-05-08  "
      ]
     },
     "execution_count": 7,
     "metadata": {},
     "output_type": "execute_result"
    }
   ],
   "source": [
    "df = pd.read_excel(\"vaccine_data.xlsx\")\n",
    "df.head(5)"
   ]
  },
  {
   "cell_type": "code",
   "execution_count": 8,
   "id": "f170d9b6-ca02-4422-9992-42b0c309ecc7",
   "metadata": {},
   "outputs": [
    {
     "name": "stdin",
     "output_type": "stream",
     "text": [
      "Enter your user ID:  p002\n"
     ]
    },
    {
     "name": "stdout",
     "output_type": "stream",
     "text": [
      "Hi Joey, you have taken your first dose on 12/01/2023, please take your 2nd dose at earliest.\n"
     ]
    }
   ],
   "source": [
    "def user_id():\n",
    "    # User provides the userid.\n",
    "    user_id = input(\"Enter your user ID: \")\n",
    "\n",
    "    # Filter the DataFrame to get information about the user by user id\n",
    "    user_data = df[df['userid']==user_id]\n",
    "\n",
    "    if user_data.empty:\n",
    "        # If the user is not found in the dataset\n",
    "        print(f\"Hi {user_id}, you are not registered for vaccination in the dataset.\")\n",
    "    else:\n",
    "        user_name = user_data['name'].values[0]\n",
    "        dose1_status = user_data['1st dose status'].values[0]\n",
    "        dose2_status = user_data['2nd dose status'].values[0]\n",
    "\n",
    "        if dose1_status == 'yes' and dose2_status == 'yes':\n",
    "            # If both doses are taken\n",
    "            print(f\"Hi {user_name}, Congratulations!! You are fully vaccinated.\")\n",
    "        elif dose1_status == 'yes' and dose2_status == 'no':\n",
    "            # Extract and convert the date of the 1st dose\n",
    "            date_1st_dose = user_data['date of 1st dose'].values[0]\n",
    "            date_2nd_dose = user_data['date of 2nd dose'].values[0]\n",
    "\n",
    "            # Pass errors='coerce' to convert unparsable data to NaT (not a time)\n",
    "            date_1st_dose = pd.to_datetime(date_1st_dose, format='%d-%m-%Y', errors='coerce')\n",
    "            date_2nd_dose = pd.to_datetime(date_2nd_dose,format='%d-%m-%Y', errors='coerce')\n",
    "\n",
    "            today = datetime.now()\n",
    "            difference = today - date_1st_dose\n",
    "\n",
    "            if pd.isnull(date_1st_dose):\n",
    "                # If the date of the 1st dose is not mentioned\n",
    "                print(f\"Hi {user_name}, please take your first dose at earliest.\")\n",
    "            elif difference.days > 90:\n",
    "                # If more than 90 days have passed since the 1st dose\n",
    "                print(f\"Hi {user_name}, you have taken your first dose on {date_1st_dose.strftime('%d/%m/%Y')}, please take your 2nd dose at earliest.\")\n",
    "            else:\n",
    "                # Calculate the next dose date (90 days after the 1st dose)\n",
    "                next_dose_date = date_1st_dose + timedelta(days=90)\n",
    "                print(f\"Hi {user_name}, you have taken your 1st dose on {date_1st_dose.strftime('%d/%m/%Y')}, please take your 2nd dose on or after {next_dose_date.strftime('%d/%m/%Y')}.\")\n",
    "        else:\n",
    "            # If the user hasn't taken the 1st dose\n",
    "            print(f\"Hi {user_name}, please take your first dose at earliest.\")\n",
    "\n",
    "# Call the function to start the process....\n",
    "user_id()"
   ]
  },
  {
   "cell_type": "code",
   "execution_count": null,
   "id": "582cfc92-ebe0-4cda-9d4a-a7c5646c18f7",
   "metadata": {},
   "outputs": [],
   "source": []
  }
 ],
 "metadata": {
  "kernelspec": {
   "display_name": "Python 3 (ipykernel)",
   "language": "python",
   "name": "python3"
  },
  "language_info": {
   "codemirror_mode": {
    "name": "ipython",
    "version": 3
   },
   "file_extension": ".py",
   "mimetype": "text/x-python",
   "name": "python",
   "nbconvert_exporter": "python",
   "pygments_lexer": "ipython3",
   "version": "3.11.5"
  }
 },
 "nbformat": 4,
 "nbformat_minor": 5
}
